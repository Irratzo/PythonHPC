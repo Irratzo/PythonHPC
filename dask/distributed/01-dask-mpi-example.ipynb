{
 "cells": [
  {
   "cell_type": "markdown",
   "metadata": {},
   "source": [
    "### Dask with multiple nodes on Piz Daint\n",
    "\n",
    "Here we are going to use`dask_mpi_magic`, a magic command that we have preparede for the course, to setup a `dask-mpi` cluster. This is equivalent to open a terminal and run \n",
    " ```bash\n",
    " srun -N 2 -n 3 dask-mpi --scheduler-file scheduler.json --no-nanny\n",
    "```\n",
    "\n",
    "This will start the `dask-mpi` server. `-N 2` asks for two nodes, and `-n 2` for to workers."
   ]
  },
  {
   "cell_type": "code",
   "execution_count": null,
   "metadata": {},
   "outputs": [],
   "source": [
    "import os\n",
    "import dask_mpi_magic\n",
    "import dask.array as da\n",
    "from dask.distributed import Client"
   ]
  },
  {
   "cell_type": "code",
   "execution_count": null,
   "metadata": {},
   "outputs": [],
   "source": [
    "%dask-mpi start -N 2 -n 2"
   ]
  },
  {
   "cell_type": "code",
   "execution_count": null,
   "metadata": {},
   "outputs": [],
   "source": [
    "N = 50_000\n",
    "x = da.random.random((N, N), chunks=(N / 50, 1000))\n",
    "x"
   ]
  },
  {
   "cell_type": "code",
   "execution_count": null,
   "metadata": {},
   "outputs": [],
   "source": [
    "%%time\n",
    "result = x[::2, ::2].sum().compute()"
   ]
  },
  {
   "cell_type": "code",
   "execution_count": null,
   "metadata": {},
   "outputs": [],
   "source": [
    "client.close()"
   ]
  },
  {
   "cell_type": "code",
   "execution_count": null,
   "metadata": {},
   "outputs": [],
   "source": [
    "%dask-mpi stop"
   ]
  },
  {
   "cell_type": "markdown",
   "metadata": {},
   "source": [
    "### Times for the random distribution with `N=500_000`\n",
    "\n",
    "* 1 nodes, 1 worker:\n",
    "<br/>\n",
    "CPU times: user 6.23 s, sys: 378 ms, total: 6.61 s\n",
    "<br/>\n",
    "Wall time: 4min 52s\n",
    "\n",
    "\n",
    "* 2 nodes, 2 workers:\n",
    "<br/>\n",
    "CPU times: user 6.32 s, sys: 264 ms, total: 6.59 s\n",
    "<br/>\n",
    "Wall time: 2min 30s"
   ]
  },
  {
   "cell_type": "markdown",
   "metadata": {},
   "source": [
    "### Times for the normal distribution with `N=500_000`\n",
    "```python\n",
    "rs = da.random.RandomState()\n",
    "x = rs.normal(10, 1, size=(N, N), chunks=(N / 50, 1000))\n",
    "```\n",
    "\n",
    "* 1 node, 1 worker:\n",
    "<br/>\n",
    "CPU times: user 7.22 s, sys: 318 ms, total: 7.54 s\n",
    "<br/>\n",
    "Wall time: 12min 10s\n",
    "<br/>\n",
    "\n",
    "\n",
    "* 2 nodes, 2 workers:\n",
    "<br/>\n",
    "CPU times: user 7.15 s, sys: 434 ms, total: 7.59 s\n",
    "<br/>\n",
    "Wall time: 6min 8s"
   ]
  }
 ],
 "metadata": {
  "kernelspec": {
   "display_name": "pythonhpc2021",
   "language": "python",
   "name": "pythonhpc2021"
  },
  "language_info": {
   "codemirror_mode": {
    "name": "ipython",
    "version": 3
   },
   "file_extension": ".py",
   "mimetype": "text/x-python",
   "name": "python",
   "nbconvert_exporter": "python",
   "pygments_lexer": "ipython3",
   "version": "3.8.10"
  }
 },
 "nbformat": 4,
 "nbformat_minor": 4
}
